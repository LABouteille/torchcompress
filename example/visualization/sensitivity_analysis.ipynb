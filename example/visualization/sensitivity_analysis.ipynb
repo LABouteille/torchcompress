{
 "cells": [
  {
   "cell_type": "code",
   "execution_count": 3,
   "id": "55b6c8c8",
   "metadata": {},
   "outputs": [],
   "source": [
    "%load_ext autoreload\n",
    "%autoreload 2"
   ]
  },
  {
   "cell_type": "code",
   "execution_count": 4,
   "id": "57b4fa5c",
   "metadata": {},
   "outputs": [],
   "source": [
    "import pandas as pd"
   ]
  },
  {
   "cell_type": "code",
   "execution_count": 5,
   "id": "a1d95528",
   "metadata": {},
   "outputs": [
    {
     "data": {
      "text/html": [
       "<div>\n",
       "<style scoped>\n",
       "    .dataframe tbody tr th:only-of-type {\n",
       "        vertical-align: middle;\n",
       "    }\n",
       "\n",
       "    .dataframe tbody tr th {\n",
       "        vertical-align: top;\n",
       "    }\n",
       "\n",
       "    .dataframe thead th {\n",
       "        text-align: right;\n",
       "    }\n",
       "</style>\n",
       "<table border=\"1\" class=\"dataframe\">\n",
       "  <thead>\n",
       "    <tr style=\"text-align: right;\">\n",
       "      <th></th>\n",
       "      <th>parameter</th>\n",
       "      <th>sparsity</th>\n",
       "      <th>loss</th>\n",
       "      <th>top1_acc</th>\n",
       "    </tr>\n",
       "  </thead>\n",
       "  <tbody>\n",
       "    <tr>\n",
       "      <th>0</th>\n",
       "      <td>conv1</td>\n",
       "      <td>0.00</td>\n",
       "      <td>0.045770</td>\n",
       "      <td>98.580003</td>\n",
       "    </tr>\n",
       "    <tr>\n",
       "      <th>1</th>\n",
       "      <td>conv1</td>\n",
       "      <td>0.05</td>\n",
       "      <td>1.372092</td>\n",
       "      <td>70.859998</td>\n",
       "    </tr>\n",
       "    <tr>\n",
       "      <th>2</th>\n",
       "      <td>conv1</td>\n",
       "      <td>0.10</td>\n",
       "      <td>0.140838</td>\n",
       "      <td>95.670003</td>\n",
       "    </tr>\n",
       "    <tr>\n",
       "      <th>3</th>\n",
       "      <td>conv1</td>\n",
       "      <td>0.15</td>\n",
       "      <td>0.140838</td>\n",
       "      <td>95.670003</td>\n",
       "    </tr>\n",
       "    <tr>\n",
       "      <th>4</th>\n",
       "      <td>conv1</td>\n",
       "      <td>0.20</td>\n",
       "      <td>1.372092</td>\n",
       "      <td>70.859998</td>\n",
       "    </tr>\n",
       "    <tr>\n",
       "      <th>...</th>\n",
       "      <td>...</td>\n",
       "      <td>...</td>\n",
       "      <td>...</td>\n",
       "      <td>...</td>\n",
       "    </tr>\n",
       "    <tr>\n",
       "      <th>75</th>\n",
       "      <td>linear2</td>\n",
       "      <td>0.75</td>\n",
       "      <td>0.619144</td>\n",
       "      <td>96.170002</td>\n",
       "    </tr>\n",
       "    <tr>\n",
       "      <th>76</th>\n",
       "      <td>linear2</td>\n",
       "      <td>0.80</td>\n",
       "      <td>0.909020</td>\n",
       "      <td>86.729997</td>\n",
       "    </tr>\n",
       "    <tr>\n",
       "      <th>77</th>\n",
       "      <td>linear2</td>\n",
       "      <td>0.85</td>\n",
       "      <td>1.219351</td>\n",
       "      <td>73.019999</td>\n",
       "    </tr>\n",
       "    <tr>\n",
       "      <th>78</th>\n",
       "      <td>linear2</td>\n",
       "      <td>0.90</td>\n",
       "      <td>1.494539</td>\n",
       "      <td>47.090000</td>\n",
       "    </tr>\n",
       "    <tr>\n",
       "      <th>79</th>\n",
       "      <td>linear2</td>\n",
       "      <td>0.95</td>\n",
       "      <td>1.789344</td>\n",
       "      <td>53.890002</td>\n",
       "    </tr>\n",
       "  </tbody>\n",
       "</table>\n",
       "<p>80 rows × 4 columns</p>\n",
       "</div>"
      ],
      "text/plain": [
       "   parameter  sparsity      loss   top1_acc\n",
       "0      conv1      0.00  0.045770  98.580003\n",
       "1      conv1      0.05  1.372092  70.859998\n",
       "2      conv1      0.10  0.140838  95.670003\n",
       "3      conv1      0.15  0.140838  95.670003\n",
       "4      conv1      0.20  1.372092  70.859998\n",
       "..       ...       ...       ...        ...\n",
       "75   linear2      0.75  0.619144  96.170002\n",
       "76   linear2      0.80  0.909020  86.729997\n",
       "77   linear2      0.85  1.219351  73.019999\n",
       "78   linear2      0.90  1.494539  47.090000\n",
       "79   linear2      0.95  1.789344  53.890002\n",
       "\n",
       "[80 rows x 4 columns]"
      ]
     },
     "execution_count": 5,
     "metadata": {},
     "output_type": "execute_result"
    }
   ],
   "source": [
    "df = pd.read_csv(\"simplenet_bn_sensitivity.csv\")\n",
    "df['sparsity'] = round(df['sparsity'], 2)\n",
    "df['top1_acc'] = df['top1_acc'] * 100\n",
    "df"
   ]
  },
  {
   "cell_type": "code",
   "execution_count": 7,
   "id": "886c9ed3",
   "metadata": {},
   "outputs": [],
   "source": [
    "from torchcompress.tools.visualization.sensitiviy_analysis import *"
   ]
  },
  {
   "cell_type": "code",
   "execution_count": 8,
   "id": "9ec369d5",
   "metadata": {},
   "outputs": [
    {
     "data": {
      "application/vnd.jupyter.widget-view+json": {
       "model_id": "ac99aa3c63604d4692b2a7616a444c6c",
       "version_major": 2,
       "version_minor": 0
      },
      "text/plain": [
       "interactive(children=(Dropdown(description='Parameter:', options=('conv1', 'conv2', 'linear1', 'linear2'), val…"
      ]
     },
     "metadata": {},
     "output_type": "display_data"
    }
   ],
   "source": [
    "view_layer_sparsities(df)"
   ]
  },
  {
   "cell_type": "code",
   "execution_count": 9,
   "id": "27796888",
   "metadata": {
    "scrolled": true
   },
   "outputs": [
    {
     "data": {
      "application/vnd.jupyter.widget-view+json": {
       "model_id": "f04836073ece4eec90bb901d133904d3",
       "version_major": 2,
       "version_minor": 0
      },
      "text/plain": [
       "HBox(children=(SelectMultiple(description='Weights:', index=(0,), layout=Layout(width='100%'), options=('All',…"
      ]
     },
     "metadata": {},
     "output_type": "display_data"
    },
    {
     "data": {
      "application/vnd.jupyter.widget-view+json": {
       "model_id": "a6a7702af37d41fdb759c3bc5aff4cec",
       "version_major": 2,
       "version_minor": 0
      },
      "text/plain": [
       "Output()"
      ]
     },
     "metadata": {},
     "output_type": "display_data"
    }
   ],
   "source": [
    "# Hold SHIFT/CTRL to select multiple row\n",
    "view_layers_sensitivies_comparison(df)"
   ]
  }
 ],
 "metadata": {
  "kernelspec": {
   "display_name": "torchcompress-dev-env",
   "language": "python",
   "name": "torchcompress-dev-env"
  },
  "language_info": {
   "codemirror_mode": {
    "name": "ipython",
    "version": 3
   },
   "file_extension": ".py",
   "mimetype": "text/x-python",
   "name": "python",
   "nbconvert_exporter": "python",
   "pygments_lexer": "ipython3",
   "version": "3.7.12"
  }
 },
 "nbformat": 4,
 "nbformat_minor": 5
}
