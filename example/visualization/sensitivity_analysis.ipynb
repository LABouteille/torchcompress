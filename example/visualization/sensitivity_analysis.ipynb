{
 "cells": [
  {
   "cell_type": "code",
   "execution_count": 1,
   "id": "55b6c8c8",
   "metadata": {},
   "outputs": [],
   "source": [
    "%load_ext autoreload\n",
    "%autoreload 2"
   ]
  },
  {
   "cell_type": "code",
   "execution_count": 2,
   "id": "57b4fa5c",
   "metadata": {},
   "outputs": [],
   "source": [
    "import pandas as pd"
   ]
  },
  {
   "cell_type": "code",
   "execution_count": 3,
   "id": "a1d95528",
   "metadata": {},
   "outputs": [
    {
     "data": {
      "text/html": [
       "<div>\n",
       "<style scoped>\n",
       "    .dataframe tbody tr th:only-of-type {\n",
       "        vertical-align: middle;\n",
       "    }\n",
       "\n",
       "    .dataframe tbody tr th {\n",
       "        vertical-align: top;\n",
       "    }\n",
       "\n",
       "    .dataframe thead th {\n",
       "        text-align: right;\n",
       "    }\n",
       "</style>\n",
       "<table border=\"1\" class=\"dataframe\">\n",
       "  <thead>\n",
       "    <tr style=\"text-align: right;\">\n",
       "      <th></th>\n",
       "      <th>parameter</th>\n",
       "      <th>sparsity</th>\n",
       "      <th>loss</th>\n",
       "      <th>top1_acc</th>\n",
       "    </tr>\n",
       "  </thead>\n",
       "  <tbody>\n",
       "    <tr>\n",
       "      <th>0</th>\n",
       "      <td>conv1</td>\n",
       "      <td>0.00</td>\n",
       "      <td>0.716662</td>\n",
       "      <td>78.749996</td>\n",
       "    </tr>\n",
       "    <tr>\n",
       "      <th>1</th>\n",
       "      <td>conv1</td>\n",
       "      <td>0.05</td>\n",
       "      <td>0.716662</td>\n",
       "      <td>78.749996</td>\n",
       "    </tr>\n",
       "    <tr>\n",
       "      <th>2</th>\n",
       "      <td>conv1</td>\n",
       "      <td>0.10</td>\n",
       "      <td>0.716662</td>\n",
       "      <td>78.749996</td>\n",
       "    </tr>\n",
       "    <tr>\n",
       "      <th>3</th>\n",
       "      <td>conv1</td>\n",
       "      <td>0.15</td>\n",
       "      <td>0.716811</td>\n",
       "      <td>78.759998</td>\n",
       "    </tr>\n",
       "    <tr>\n",
       "      <th>4</th>\n",
       "      <td>conv1</td>\n",
       "      <td>0.20</td>\n",
       "      <td>0.716786</td>\n",
       "      <td>78.759998</td>\n",
       "    </tr>\n",
       "    <tr>\n",
       "      <th>...</th>\n",
       "      <td>...</td>\n",
       "      <td>...</td>\n",
       "      <td>...</td>\n",
       "      <td>...</td>\n",
       "    </tr>\n",
       "    <tr>\n",
       "      <th>415</th>\n",
       "      <td>fc</td>\n",
       "      <td>0.75</td>\n",
       "      <td>0.640489</td>\n",
       "      <td>78.399998</td>\n",
       "    </tr>\n",
       "    <tr>\n",
       "      <th>416</th>\n",
       "      <td>fc</td>\n",
       "      <td>0.80</td>\n",
       "      <td>0.655156</td>\n",
       "      <td>78.329998</td>\n",
       "    </tr>\n",
       "    <tr>\n",
       "      <th>417</th>\n",
       "      <td>fc</td>\n",
       "      <td>0.85</td>\n",
       "      <td>0.703285</td>\n",
       "      <td>78.770000</td>\n",
       "    </tr>\n",
       "    <tr>\n",
       "      <th>418</th>\n",
       "      <td>fc</td>\n",
       "      <td>0.90</td>\n",
       "      <td>0.900650</td>\n",
       "      <td>77.819997</td>\n",
       "    </tr>\n",
       "    <tr>\n",
       "      <th>419</th>\n",
       "      <td>fc</td>\n",
       "      <td>0.95</td>\n",
       "      <td>1.319271</td>\n",
       "      <td>72.569996</td>\n",
       "    </tr>\n",
       "  </tbody>\n",
       "</table>\n",
       "<p>420 rows × 4 columns</p>\n",
       "</div>"
      ],
      "text/plain": [
       "    parameter  sparsity      loss   top1_acc\n",
       "0       conv1      0.00  0.716662  78.749996\n",
       "1       conv1      0.05  0.716662  78.749996\n",
       "2       conv1      0.10  0.716662  78.749996\n",
       "3       conv1      0.15  0.716811  78.759998\n",
       "4       conv1      0.20  0.716786  78.759998\n",
       "..        ...       ...       ...        ...\n",
       "415        fc      0.75  0.640489  78.399998\n",
       "416        fc      0.80  0.655156  78.329998\n",
       "417        fc      0.85  0.703285  78.770000\n",
       "418        fc      0.90  0.900650  77.819997\n",
       "419        fc      0.95  1.319271  72.569996\n",
       "\n",
       "[420 rows x 4 columns]"
      ]
     },
     "execution_count": 3,
     "metadata": {},
     "output_type": "execute_result"
    }
   ],
   "source": [
    "df = pd.read_csv(\"resnet18-sensitivity.csv\")\n",
    "df['sparsity'] = round(df['sparsity'], 2)\n",
    "df['top1_acc'] = df['top1_acc'] * 100\n",
    "df"
   ]
  },
  {
   "cell_type": "code",
   "execution_count": 4,
   "id": "886c9ed3",
   "metadata": {},
   "outputs": [],
   "source": [
    "from torchcompress.visualization.sensitiviy_analysis import *"
   ]
  },
  {
   "cell_type": "code",
   "execution_count": 5,
   "id": "9ec369d5",
   "metadata": {},
   "outputs": [
    {
     "data": {
      "application/vnd.jupyter.widget-view+json": {
       "model_id": "5bc6abd445f54ecc9b4c58d81801296b",
       "version_major": 2,
       "version_minor": 0
      },
      "text/plain": [
       "interactive(children=(Dropdown(description='Parameter:', options=('conv1', 'fc', 'layer1.0.conv1', 'layer1.0.c…"
      ]
     },
     "metadata": {},
     "output_type": "display_data"
    }
   ],
   "source": [
    "view_layer_sparsities(df)"
   ]
  },
  {
   "cell_type": "code",
   "execution_count": 16,
   "id": "27796888",
   "metadata": {},
   "outputs": [
    {
     "data": {
      "application/vnd.jupyter.widget-view+json": {
       "model_id": "803af6f4375f4caf9f64663d8c3dc506",
       "version_major": 2,
       "version_minor": 0
      },
      "text/plain": [
       "HBox(children=(SelectMultiple(description='Weights:', index=(0,), layout=Layout(width='100%'), options=('All',…"
      ]
     },
     "metadata": {},
     "output_type": "display_data"
    },
    {
     "data": {
      "application/vnd.jupyter.widget-view+json": {
       "model_id": "a1807beba39e4da5bc409bc1b36441b7",
       "version_major": 2,
       "version_minor": 0
      },
      "text/plain": [
       "Output()"
      ]
     },
     "metadata": {},
     "output_type": "display_data"
    }
   ],
   "source": [
    "# Hold SHIFT/CTRL to select multiple row\n",
    "view_layers_sensitivies_comparison(df)"
   ]
  }
 ],
 "metadata": {
  "kernelspec": {
   "display_name": "torchcompress-dev-env",
   "language": "python",
   "name": "torchcompress-dev-env"
  },
  "language_info": {
   "codemirror_mode": {
    "name": "ipython",
    "version": 3
   },
   "file_extension": ".py",
   "mimetype": "text/x-python",
   "name": "python",
   "nbconvert_exporter": "python",
   "pygments_lexer": "ipython3",
   "version": "3.7.12"
  }
 },
 "nbformat": 4,
 "nbformat_minor": 5
}
